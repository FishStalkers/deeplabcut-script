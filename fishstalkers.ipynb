{
  "nbformat": 4,
  "nbformat_minor": 0,
  "metadata": {
    "colab": {
      "provenance": []
    },
    "kernelspec": {
      "name": "python3",
      "display_name": "Python 3"
    },
    "language_info": {
      "name": "python"
    }
  },
  "cells": [
    {
      "cell_type": "code",
      "execution_count": null,
      "metadata": {
        "id": "7GQ9iNSJqSbO"
      },
      "outputs": [],
      "source": [
        "import numpy as np\n",
        "import pandas as pd\n",
        "import matplotlib.pyplot as plt\n",
        "from matplotlib import cm\n",
        "from sklearn.cluster import KMeans, DBSCAN, Birch\n",
        "from sklearn.mixture import GaussianMixture"
      ]
    },
    {
      "cell_type": "code",
      "source": [
        "df = pd.read_csv(\"CollectedData_annie.csv\", header=[0,1,2,3], index_col=0, skiprows=1)\n",
        "df = df.drop(columns=['lefteye', 'righteye'], level=1)\n",
        "nose = df['fish1', 'nose'].to_numpy()\n",
        "spine1 = df['fish1', 'spine1'].to_numpy()\n",
        "len = np.linalg.norm(nose - spine1, axis = 1)"
      ],
      "metadata": {
        "id": "j-j40SGAq4j9",
        "colab": {
          "base_uri": "https://localhost:8080/"
        },
        "outputId": "7f0e7b90-4106-4f1a-d85e-cb8f0eec8dda"
      },
      "execution_count": null,
      "outputs": [
        {
          "output_type": "stream",
          "name": "stderr",
          "text": [
            "/usr/local/lib/python3.8/dist-packages/IPython/core/interactiveshell.py:2854: PerformanceWarning: indexing past lexsort depth may impact performance.\n",
            "  result = self._run_cell(\n"
          ]
        }
      ]
    },
    {
      "cell_type": "code",
      "source": [
        "body_lengths = None\n",
        "body_widths = None\n",
        "l_divw=[]\n",
        "count=[]\n",
        "counter=0\n",
        "for n in range(1, 6):\n",
        "  curr_fish = 'fish' + str(n)\n",
        "  nose = df[curr_fish, 'nose'].to_numpy()\n",
        "  spine1 = df[curr_fish, 'spine1'].to_numpy()\n",
        "  spine2 = df[curr_fish, 'spine2'].to_numpy()\n",
        "  spine3 = df[curr_fish, 'spine3'].to_numpy()\n",
        "  backfin = df[curr_fish, 'backfin'].to_numpy()\n",
        "  leftfin = df[curr_fish, 'leftfin'].to_numpy()\n",
        "  rightfin = df[curr_fish, 'rightfin'].to_numpy()\n",
        "  bodylength = np.linalg.norm(nose - spine1, axis = 1) + np.linalg.norm(spine1 - spine2, axis = 1) + np.linalg.norm(spine2 - spine3, axis = 1) + np.linalg.norm(spine3 - backfin, axis = 1)\n",
        "  bodywidth = np.linalg.norm(leftfin - spine2, axis = 1) + np.linalg.norm(spine2 - rightfin, axis = 1)\n",
        "  ldivw=bodylength/bodywidth\n",
        "  l_divw.append(ldivw)\n",
        "  count.append(counter)\n",
        "  counter+=1\n",
        "  if (body_lengths is None):\n",
        "    body_lengths = bodylength\n",
        "  else:\n",
        "    body_lengths = np.vstack((body_lengths, bodylength))\n",
        "  if (body_widths is None):\n",
        "    body_widths = bodywidth\n",
        "  else:\n",
        "    body_widths = np.vstack((body_widths, bodywidth))\n"
      ],
      "metadata": {
        "id": "OFSo1Tcs5x3g",
        "colab": {
          "base_uri": "https://localhost:8080/"
        },
        "outputId": "6d86304a-47f4-40e5-ce8c-c2f1e16bb63d"
      },
      "execution_count": null,
      "outputs": [
        {
          "output_type": "stream",
          "name": "stderr",
          "text": [
            "/usr/local/lib/python3.8/dist-packages/IPython/core/interactiveshell.py:2854: PerformanceWarning: indexing past lexsort depth may impact performance.\n",
            "  result = self._run_cell(\n"
          ]
        }
      ]
    },
    {
      "cell_type": "code",
      "source": [
        "flatten_length = body_lengths.flatten()\n",
        "flatten_width = body_widths.flatten()\n",
        "graph_mask = (np.logical_and(np.logical_not(np.isnan(flatten_length)), np.logical_not(np.isnan(flatten_width))))\n",
        "f = plt.figure()\n",
        "f.set_figwidth(10)\n",
        "f.set_figheight(10)\n",
        "plt.scatter(flatten_length[graph_mask], flatten_width[graph_mask], c='b')\n",
        "plt.xlabel(\"Body Length\")\n",
        "plt.ylabel(\"Body Width\")\n",
        "plt.show()"
      ],
      "metadata": {
        "id": "vYMuF1gStoNQ",
        "colab": {
          "base_uri": "https://localhost:8080/",
          "height": 606
        },
        "outputId": "4d1f4920-1a78-4e20-b5df-9d8eda3de7d2"
      },
      "execution_count": null,
      "outputs": [
        {
          "output_type": "display_data",
          "data": {
            "text/plain": [
              "<Figure size 720x720 with 1 Axes>"
            ],
            "image/png": "[encoded data removed]"
          },
          "metadata": {
            "needs_background": "light"
          }
        }
      ]
    },
    {
      "cell_type": "code",
      "source": [
        "l_divw\n"
      ],
      "metadata": {
        "colab": {
          "base_uri": "https://localhost:8080/"
        },
        "id": "9AFHOEpxq08l",
        "outputId": "43ced221-681f-4398-ce17-627c19232045"
      },
      "execution_count": null,
      "outputs": [
        {
          "output_type": "execute_result",
          "data": {
            "text/plain": [
              "[array([1.54175784, 1.48703047, 1.46098505, 1.59002978, 1.71476094,\n",
              "        1.63741317, 1.81901001, 1.67374045, 1.46760249, 1.86438968,\n",
              "               nan, 1.62587148, 1.74221282, 1.62645663, 2.03203323,\n",
              "        1.69850918, 1.78391508, 1.59573028, 1.71910281, 1.58027444,\n",
              "        1.62379241, 1.76500389, 1.72434313, 1.78036298,        nan,\n",
              "        1.66831893, 1.50182457, 2.29630834, 1.82107628, 1.62626771,\n",
              "        1.64205314, 1.57532784, 1.78233498, 1.29265565, 1.76787223,\n",
              "        1.41227939, 1.450471  , 1.73638365, 1.81358094, 2.01685771,\n",
              "        1.49167396, 1.66571264, 1.45804408, 1.29553815, 1.74860062,\n",
              "        1.7952944 ,        nan, 1.55851443, 1.44841913]),\n",
              " array([       nan,        nan,        nan, 1.58230951, 2.22586751,\n",
              "               nan,        nan,        nan, 2.03054852, 1.44665269,\n",
              "               nan, 1.57143081,        nan, 1.91318473, 2.23634184,\n",
              "               nan, 1.67488886,        nan, 1.67798496,        nan,\n",
              "        1.61688968,        nan, 1.68201424, 2.00092652,        nan,\n",
              "               nan,        nan, 1.77581687, 2.02766229,        nan,\n",
              "               nan, 1.63146869,        nan, 1.62779847,        nan,\n",
              "               nan, 1.42597847, 2.24491483,        nan, 1.46618907,\n",
              "        1.77348738,        nan, 1.93183815, 1.62659056, 1.8523833 ,\n",
              "        1.41811588, 1.79283488,        nan, 1.5624522 ]),\n",
              " array([       nan,        nan,        nan,        nan,        nan,\n",
              "               nan,        nan,        nan, 1.50079312, 1.54948799,\n",
              "               nan, 1.74095316,        nan,        nan,        nan,\n",
              "               nan, 1.61074983,        nan,        nan,        nan,\n",
              "               nan,        nan, 1.81349683, 1.76803758,        nan,\n",
              "               nan,        nan,        nan,        nan,        nan,\n",
              "               nan, 1.68019072,        nan,        nan,        nan,\n",
              "               nan,        nan,        nan,        nan,        nan,\n",
              "        1.82039239,        nan,        nan, 1.46973789, 1.38239427,\n",
              "               nan,        nan,        nan,        nan]),\n",
              " array([       nan,        nan,        nan,        nan, 2.1461442 ,\n",
              "               nan,        nan,        nan, 1.85724131,        nan,\n",
              "               nan, 1.52685239,        nan,        nan,        nan,\n",
              "               nan,        nan,        nan,        nan,        nan,\n",
              "               nan,        nan, 1.52438173,        nan,        nan,\n",
              "               nan,        nan,        nan,        nan,        nan,\n",
              "               nan, 1.71091349,        nan,        nan,        nan,\n",
              "               nan,        nan,        nan,        nan,        nan,\n",
              "        1.60471144,        nan,        nan,        nan, 1.72696315,\n",
              "               nan,        nan,        nan,        nan]),\n",
              " array([       nan,        nan,        nan,        nan,        nan,\n",
              "               nan,        nan,        nan,        nan,        nan,\n",
              "               nan,        nan,        nan,        nan,        nan,\n",
              "               nan,        nan,        nan,        nan,        nan,\n",
              "               nan,        nan, 1.71086144,        nan,        nan,\n",
              "               nan,        nan,        nan,        nan,        nan,\n",
              "               nan,        nan,        nan,        nan,        nan,\n",
              "               nan,        nan,        nan,        nan,        nan,\n",
              "               nan,        nan,        nan,        nan,        nan,\n",
              "               nan,        nan,        nan,        nan])]"
            ]
          },
          "metadata": {},
          "execution_count": 16
        }
      ]
    },
    {
      "cell_type": "code",
      "source": [
        "flatten_length = body_lengths.flatten()\n",
        "flatten_width = body_widths.flatten()\n",
        "graph_mask = (np.logical_and(np.logical_not(np.isnan(flatten_length)), np.logical_not(np.isnan(flatten_width))))\n",
        "f = plt.figure()\n",
        "f.set_figwidth(10)\n",
        "f.set_figheight(10)\n",
        "plt.scatter(count, l_divw, c='b')\n",
        "plt.xlabel(\"Body Length\")\n",
        "plt.ylabel(\"Body Width\")\n",
        "plt.show()\n",
        "len(count)"
      ],
      "metadata": {
        "colab": {
          "base_uri": "https://localhost:8080/",
          "height": 976
        },
        "outputId": "643271bf-5fea-46b6-84c3-49424210588d",
        "id": "Vjg_8-sPq2sh"
      },
      "execution_count": null,
      "outputs": [
        {
          "output_type": "error",
          "ename": "ValueError",
          "evalue": "ignored",
          "traceback": [
            "\u001b[0;31m---------------------------------------------------------------------------\u001b[0m",
            "\u001b[0;31mValueError\u001b[0m                                Traceback (most recent call last)",
            "\u001b[0;32m<ipython-input-13-fe706e361153>\u001b[0m in \u001b[0;36m<module>\u001b[0;34m\u001b[0m\n\u001b[1;32m      5\u001b[0m \u001b[0mf\u001b[0m\u001b[0;34m.\u001b[0m\u001b[0mset_figwidth\u001b[0m\u001b[0;34m(\u001b[0m\u001b[0;36m10\u001b[0m\u001b[0;34m)\u001b[0m\u001b[0;34m\u001b[0m\u001b[0;34m\u001b[0m\u001b[0m\n\u001b[1;32m      6\u001b[0m \u001b[0mf\u001b[0m\u001b[0;34m.\u001b[0m\u001b[0mset_figheight\u001b[0m\u001b[0;34m(\u001b[0m\u001b[0;36m10\u001b[0m\u001b[0;34m)\u001b[0m\u001b[0;34m\u001b[0m\u001b[0;34m\u001b[0m\u001b[0m\n\u001b[0;32m----> 7\u001b[0;31m \u001b[0mplt\u001b[0m\u001b[0;34m.\u001b[0m\u001b[0mscatter\u001b[0m\u001b[0;34m(\u001b[0m\u001b[0mcount\u001b[0m\u001b[0;34m,\u001b[0m \u001b[0ml_divw\u001b[0m\u001b[0;34m,\u001b[0m \u001b[0mc\u001b[0m\u001b[0;34m=\u001b[0m\u001b[0;34m'b'\u001b[0m\u001b[0;34m)\u001b[0m\u001b[0;34m\u001b[0m\u001b[0;34m\u001b[0m\u001b[0m\n\u001b[0m\u001b[1;32m      8\u001b[0m \u001b[0mplt\u001b[0m\u001b[0;34m.\u001b[0m\u001b[0mxlabel\u001b[0m\u001b[0;34m(\u001b[0m\u001b[0;34m\"Body Length\"\u001b[0m\u001b[0;34m)\u001b[0m\u001b[0;34m\u001b[0m\u001b[0;34m\u001b[0m\u001b[0m\n\u001b[1;32m      9\u001b[0m \u001b[0mplt\u001b[0m\u001b[0;34m.\u001b[0m\u001b[0mylabel\u001b[0m\u001b[0;34m(\u001b[0m\u001b[0;34m\"Body Width\"\u001b[0m\u001b[0;34m)\u001b[0m\u001b[0;34m\u001b[0m\u001b[0;34m\u001b[0m\u001b[0m\n",
            "\u001b[0;32m/usr/local/lib/python3.8/dist-packages/matplotlib/pyplot.py\u001b[0m in \u001b[0;36mscatter\u001b[0;34m(x, y, s, c, marker, cmap, norm, vmin, vmax, alpha, linewidths, verts, edgecolors, plotnonfinite, data, **kwargs)\u001b[0m\n\u001b[1;32m   2809\u001b[0m         \u001b[0mverts\u001b[0m\u001b[0;34m=\u001b[0m\u001b[0mcbook\u001b[0m\u001b[0;34m.\u001b[0m\u001b[0mdeprecation\u001b[0m\u001b[0;34m.\u001b[0m\u001b[0m_deprecated_parameter\u001b[0m\u001b[0;34m,\u001b[0m\u001b[0;34m\u001b[0m\u001b[0;34m\u001b[0m\u001b[0m\n\u001b[1;32m   2810\u001b[0m         edgecolors=None, *, plotnonfinite=False, data=None, **kwargs):\n\u001b[0;32m-> 2811\u001b[0;31m     __ret = gca().scatter(\n\u001b[0m\u001b[1;32m   2812\u001b[0m         \u001b[0mx\u001b[0m\u001b[0;34m,\u001b[0m \u001b[0my\u001b[0m\u001b[0;34m,\u001b[0m \u001b[0ms\u001b[0m\u001b[0;34m=\u001b[0m\u001b[0ms\u001b[0m\u001b[0;34m,\u001b[0m \u001b[0mc\u001b[0m\u001b[0;34m=\u001b[0m\u001b[0mc\u001b[0m\u001b[0;34m,\u001b[0m \u001b[0mmarker\u001b[0m\u001b[0;34m=\u001b[0m\u001b[0mmarker\u001b[0m\u001b[0;34m,\u001b[0m \u001b[0mcmap\u001b[0m\u001b[0;34m=\u001b[0m\u001b[0mcmap\u001b[0m\u001b[0;34m,\u001b[0m \u001b[0mnorm\u001b[0m\u001b[0;34m=\u001b[0m\u001b[0mnorm\u001b[0m\u001b[0;34m,\u001b[0m\u001b[0;34m\u001b[0m\u001b[0;34m\u001b[0m\u001b[0m\n\u001b[1;32m   2813\u001b[0m         \u001b[0mvmin\u001b[0m\u001b[0;34m=\u001b[0m\u001b[0mvmin\u001b[0m\u001b[0;34m,\u001b[0m \u001b[0mvmax\u001b[0m\u001b[0;34m=\u001b[0m\u001b[0mvmax\u001b[0m\u001b[0;34m,\u001b[0m \u001b[0malpha\u001b[0m\u001b[0;34m=\u001b[0m\u001b[0malpha\u001b[0m\u001b[0;34m,\u001b[0m \u001b[0mlinewidths\u001b[0m\u001b[0;34m=\u001b[0m\u001b[0mlinewidths\u001b[0m\u001b[0;34m,\u001b[0m\u001b[0;34m\u001b[0m\u001b[0;34m\u001b[0m\u001b[0m\n",
            "\u001b[0;32m/usr/local/lib/python3.8/dist-packages/matplotlib/__init__.py\u001b[0m in \u001b[0;36minner\u001b[0;34m(ax, data, *args, **kwargs)\u001b[0m\n\u001b[1;32m   1563\u001b[0m     \u001b[0;32mdef\u001b[0m \u001b[0minner\u001b[0m\u001b[0;34m(\u001b[0m\u001b[0max\u001b[0m\u001b[0;34m,\u001b[0m \u001b[0;34m*\u001b[0m\u001b[0margs\u001b[0m\u001b[0;34m,\u001b[0m \u001b[0mdata\u001b[0m\u001b[0;34m=\u001b[0m\u001b[0;32mNone\u001b[0m\u001b[0;34m,\u001b[0m \u001b[0;34m**\u001b[0m\u001b[0mkwargs\u001b[0m\u001b[0;34m)\u001b[0m\u001b[0;34m:\u001b[0m\u001b[0;34m\u001b[0m\u001b[0;34m\u001b[0m\u001b[0m\n\u001b[1;32m   1564\u001b[0m         \u001b[0;32mif\u001b[0m \u001b[0mdata\u001b[0m \u001b[0;32mis\u001b[0m \u001b[0;32mNone\u001b[0m\u001b[0;34m:\u001b[0m\u001b[0;34m\u001b[0m\u001b[0;34m\u001b[0m\u001b[0m\n\u001b[0;32m-> 1565\u001b[0;31m             \u001b[0;32mreturn\u001b[0m \u001b[0mfunc\u001b[0m\u001b[0;34m(\u001b[0m\u001b[0max\u001b[0m\u001b[0;34m,\u001b[0m \u001b[0;34m*\u001b[0m\u001b[0mmap\u001b[0m\u001b[0;34m(\u001b[0m\u001b[0msanitize_sequence\u001b[0m\u001b[0;34m,\u001b[0m \u001b[0margs\u001b[0m\u001b[0;34m)\u001b[0m\u001b[0;34m,\u001b[0m \u001b[0;34m**\u001b[0m\u001b[0mkwargs\u001b[0m\u001b[0;34m)\u001b[0m\u001b[0;34m\u001b[0m\u001b[0;34m\u001b[0m\u001b[0m\n\u001b[0m\u001b[1;32m   1566\u001b[0m \u001b[0;34m\u001b[0m\u001b[0m\n\u001b[1;32m   1567\u001b[0m         \u001b[0mbound\u001b[0m \u001b[0;34m=\u001b[0m \u001b[0mnew_sig\u001b[0m\u001b[0;34m.\u001b[0m\u001b[0mbind\u001b[0m\u001b[0;34m(\u001b[0m\u001b[0max\u001b[0m\u001b[0;34m,\u001b[0m \u001b[0;34m*\u001b[0m\u001b[0margs\u001b[0m\u001b[0;34m,\u001b[0m \u001b[0;34m**\u001b[0m\u001b[0mkwargs\u001b[0m\u001b[0;34m)\u001b[0m\u001b[0;34m\u001b[0m\u001b[0;34m\u001b[0m\u001b[0m\n",
            "\u001b[0;32m/usr/local/lib/python3.8/dist-packages/matplotlib/cbook/deprecation.py\u001b[0m in \u001b[0;36mwrapper\u001b[0;34m(*args, **kwargs)\u001b[0m\n\u001b[1;32m    356\u001b[0m                 \u001b[0;34mf\"%(removal)s.  If any parameter follows {name!r}, they \"\u001b[0m\u001b[0;34m\u001b[0m\u001b[0;34m\u001b[0m\u001b[0m\n\u001b[1;32m    357\u001b[0m                 f\"should be pass as keyword, not positionally.\")\n\u001b[0;32m--> 358\u001b[0;31m         \u001b[0;32mreturn\u001b[0m \u001b[0mfunc\u001b[0m\u001b[0;34m(\u001b[0m\u001b[0;34m*\u001b[0m\u001b[0margs\u001b[0m\u001b[0;34m,\u001b[0m \u001b[0;34m**\u001b[0m\u001b[0mkwargs\u001b[0m\u001b[0;34m)\u001b[0m\u001b[0;34m\u001b[0m\u001b[0;34m\u001b[0m\u001b[0m\n\u001b[0m\u001b[1;32m    359\u001b[0m \u001b[0;34m\u001b[0m\u001b[0m\n\u001b[1;32m    360\u001b[0m     \u001b[0;32mreturn\u001b[0m \u001b[0mwrapper\u001b[0m\u001b[0;34m\u001b[0m\u001b[0;34m\u001b[0m\u001b[0m\n",
            "\u001b[0;32m/usr/local/lib/python3.8/dist-packages/matplotlib/axes/_axes.py\u001b[0m in \u001b[0;36mscatter\u001b[0;34m(self, x, y, s, c, marker, cmap, norm, vmin, vmax, alpha, linewidths, verts, edgecolors, plotnonfinite, **kwargs)\u001b[0m\n\u001b[1;32m   4389\u001b[0m         \u001b[0my\u001b[0m \u001b[0;34m=\u001b[0m \u001b[0mnp\u001b[0m\u001b[0;34m.\u001b[0m\u001b[0mma\u001b[0m\u001b[0;34m.\u001b[0m\u001b[0mravel\u001b[0m\u001b[0;34m(\u001b[0m\u001b[0my\u001b[0m\u001b[0;34m)\u001b[0m\u001b[0;34m\u001b[0m\u001b[0;34m\u001b[0m\u001b[0m\n\u001b[1;32m   4390\u001b[0m         \u001b[0;32mif\u001b[0m \u001b[0mx\u001b[0m\u001b[0;34m.\u001b[0m\u001b[0msize\u001b[0m \u001b[0;34m!=\u001b[0m \u001b[0my\u001b[0m\u001b[0;34m.\u001b[0m\u001b[0msize\u001b[0m\u001b[0;34m:\u001b[0m\u001b[0;34m\u001b[0m\u001b[0;34m\u001b[0m\u001b[0m\n\u001b[0;32m-> 4391\u001b[0;31m             \u001b[0;32mraise\u001b[0m \u001b[0mValueError\u001b[0m\u001b[0;34m(\u001b[0m\u001b[0;34m\"x and y must be the same size\"\u001b[0m\u001b[0;34m)\u001b[0m\u001b[0;34m\u001b[0m\u001b[0;34m\u001b[0m\u001b[0m\n\u001b[0m\u001b[1;32m   4392\u001b[0m \u001b[0;34m\u001b[0m\u001b[0m\n\u001b[1;32m   4393\u001b[0m         \u001b[0;32mif\u001b[0m \u001b[0ms\u001b[0m \u001b[0;32mis\u001b[0m \u001b[0;32mNone\u001b[0m\u001b[0;34m:\u001b[0m\u001b[0;34m\u001b[0m\u001b[0;34m\u001b[0m\u001b[0m\n",
            "\u001b[0;31mValueError\u001b[0m: x and y must be the same size"
          ]
        },
        {
          "output_type": "display_data",
          "data": {
            "text/plain": [
              "<Figure size 720x720 with 1 Axes>"
            ],
            "image/png": "[encoded data removed]"
          },
          "metadata": {
            "needs_background": "light"
          }
        }
      ]
    },
    {
      "cell_type": "code",
      "source": [],
      "metadata": {
        "id": "g-0nDcYuomOC"
      },
      "execution_count": null,
      "outputs": []
    },
    {
      "cell_type": "code",
      "source": [
        "#KMeans clustering - v2\n",
        "body_length_width_sorted = np.vstack([flatten_length[graph_mask], flatten_width[graph_mask]])\n",
        "body_length_width_sorted.sort\n",
        "print(body_length_width_sorted)\n",
        "'''\n",
        "body_length_sorted = sorted()\n",
        "body_width_sorted = sorted()\n",
        "Y = np.squeeze(np.dstack((body_length_sorted[0:30], body_width_sorted[0:30])))\n",
        "kmeans = KMeans(n_clusters=5, random_state=0).fit(Y)\n",
        "labels = kmeans.labels_\n",
        "f = plt.figure()\n",
        "f.set_figwidth(10)\n",
        "f.set_figheight(10)\n",
        "plt.scatter(Y[:, 0], Y[:, 1], c=labels, cmap=cm.jet)\n",
        "plt.xlabel(\"Body Length\")\n",
        "plt.ylabel(\"Body Width\")\n",
        "plt.show()\n",
        "'''"
      ],
      "metadata": {
        "id": "7KERrFDsNOcP",
        "colab": {
          "base_uri": "https://localhost:8080/",
          "height": 695
        },
        "outputId": "8a465d24-ca70-496f-f224-91f89588e6f1"
      },
      "execution_count": null,
      "outputs": [
        {
          "output_type": "stream",
          "name": "stdout",
          "text": [
            "[[ 99.71987088  98.98316633  96.12532074 103.88657937 163.31945584\n",
            "   72.27174835 100.37286923  91.45798694  94.67283099  94.80695652\n",
            "   86.52203738  99.77650758  89.67077377  84.87574325  84.21856171\n",
            "   90.97055481 103.347381   153.4847927  102.54841042 104.49450964\n",
            "   81.72322224  99.3242489  110.25560004 103.77112795  98.52214066\n",
            "   98.34141886 140.40064331 118.3377027  101.3856989   93.06609338\n",
            "  106.73725204  98.64791078 117.73917443 103.99066928 117.72662437\n",
            "  101.53920652 115.54460249 112.28145816 108.9463219  129.83104607\n",
            "  108.53587978 135.89623842 177.78980907 136.59910992 118.40473038\n",
            "  140.86959973 111.38231151 132.14526554 105.19488322 136.53636931\n",
            "  124.5099931  165.86780992 164.5278176  135.20254055 108.65913851\n",
            "  156.51286359  92.80203415 171.09812054 136.24999489 143.17250059\n",
            "  124.86421932 180.16696652 135.44012473 163.56609791 132.33733222\n",
            "  122.14313353 171.93691032  85.69381461 130.89517328 147.91751848\n",
            "  127.27812584 110.07554741 119.17385054 130.39854124 112.72977555\n",
            "  162.18206952 101.84483982 148.06595169  97.24885562 154.42818906\n",
            "  134.07326667 127.81435825 107.64398045 136.98841768  89.55756895\n",
            "  144.86868579 142.23478451 117.91967429 161.70918457 161.17719908]\n",
            " [ 64.67933459  66.56431607  65.79486948  65.33624776  95.24327944\n",
            "   44.13775918  55.1799433   54.64287313  64.5084971   50.85147047\n",
            "   53.21579123  57.26998833  55.13259444  41.76887572  49.58381314\n",
            "   50.99489097  64.76494329  89.28191611  64.89278547  64.3521357\n",
            "   46.30200699  57.60120898  61.92871986  62.20101323  65.60163055\n",
            "   42.82587718  77.09761814  72.76643455  61.74325096  59.07728584\n",
            "   59.88619052  76.31414476  66.59936855  73.63321319  81.16441083\n",
            "   58.47740296  63.71075027  55.67148227  73.03628345  77.94324368\n",
            "   74.43936821 104.89559    101.67548119  76.08730348  75.97281612\n",
            "   97.25748377  70.39224035  59.36798346  51.8061411   94.38089035\n",
            "   79.23351907  86.69722633  73.57006653  80.72329068  64.75572864\n",
            "   96.79872766  55.17315595  85.50944702  76.72525084  70.60963805\n",
            "   76.53485481 110.68137104  94.98048345  72.86071408  90.2593907\n",
            "   68.87172423  89.00171613  52.68308854  70.66311447 104.30566391\n",
            "   70.9926648   70.45050557  79.40724745  84.15589038  64.75175693\n",
            "  100.68731145  56.15937017  83.7459302   57.87965287  84.83236335\n",
            "   91.22256971  92.45868668  50.15691872  73.75908391  58.65502744\n",
            "   95.03438895  83.1338259   73.48341328  93.63788951  94.2082131 ]]\n"
          ]
        },
        {
          "output_type": "execute_result",
          "data": {
            "text/plain": [
              "'\\nbody_length_sorted = sorted()\\nbody_width_sorted = sorted()\\nY = np.squeeze(np.dstack((body_length_sorted[0:30], body_width_sorted[0:30])))\\nkmeans = KMeans(n_clusters=5, random_state=0).fit(Y)\\nlabels = kmeans.labels_\\nf = plt.figure()\\nf.set_figwidth(10)\\nf.set_figheight(10)\\nplt.scatter(Y[:, 0], Y[:, 1], c=labels, cmap=cm.jet)\\nplt.xlabel(\"Body Length\")\\nplt.ylabel(\"Body Width\")\\nplt.show()\\n'"
            ],
            "application/vnd.google.colaboratory.intrinsic+json": {
              "type": "string"
            }
          },
          "metadata": {},
          "execution_count": 8
        }
      ]
    },
    {
      "cell_type": "code",
      "source": [
        "#KMeans clustering\n",
        "X = np.squeeze(np.dstack((flatten_length[graph_mask], flatten_width[graph_mask])))\n",
        "kmeans = KMeans(n_clusters=5, random_state=0).fit(X)\n",
        "labels = kmeans.labels_\n",
        "f = plt.figure()\n",
        "f.set_figwidth(10)\n",
        "f.set_figheight(10)\n",
        "plt.scatter(X[:, 0], X[:, 1], c=labels, cmap=cm.jet)\n",
        "plt.xlabel(\"Body Length\")\n",
        "plt.ylabel(\"Body Width\")\n",
        "plt.show()"
      ],
      "metadata": {
        "id": "IftcbQfJ4pjm"
      },
      "execution_count": null,
      "outputs": []
    },
    {
      "cell_type": "code",
      "source": [
        "#DBSCAN clustering\n",
        "db = DBSCAN(eps=8, min_samples=10).fit(X)\n",
        "labels = db.labels_\n",
        "f = plt.figure()\n",
        "f.set_figwidth(10)\n",
        "f.set_figheight(10)\n",
        "plt.scatter(X[:, 0], X[:, 1], c=labels, cmap=cm.jet)\n",
        "plt.xlabel(\"Body Length\")\n",
        "plt.ylabel(\"Body Width\")\n",
        "plt.show()"
      ],
      "metadata": {
        "id": "WhMmDMAWClbC"
      },
      "execution_count": null,
      "outputs": []
    },
    {
      "cell_type": "code",
      "source": [
        "#GMM\n",
        "gm = GaussianMixture(n_components=5, random_state=0).fit_predict(X)\n",
        "f = plt.figure()\n",
        "f.set_figwidth(10)\n",
        "f.set_figheight(10)\n",
        "plt.scatter(X[:, 0], X[:, 1], c=gm, cmap=cm.jet)\n",
        "plt.xlabel(\"Body Length\")\n",
        "plt.ylabel(\"Body Width\")\n",
        "plt.show()"
      ],
      "metadata": {
        "id": "kZX39Wf2DSZy"
      },
      "execution_count": null,
      "outputs": []
    },
    {
      "cell_type": "code",
      "source": [
        "#Birch\n",
        "brc = Birch(n_clusters=5)\n",
        "labels = brc.fit_predict(X)\n",
        "f = plt.figure()\n",
        "f.set_figwidth(10)\n",
        "f.set_figheight(10)\n",
        "plt.scatter(X[:, 0], X[:, 1], c=labels, cmap=cm.jet)\n",
        "plt.xlabel(\"Body Length\")\n",
        "plt.ylabel(\"Body Width\")\n",
        "plt.show()"
      ],
      "metadata": {
        "id": "3rooDo5EGRrF"
      },
      "execution_count": null,
      "outputs": []
    }
  ]
}